{
 "cells": [
  {
   "cell_type": "markdown",
   "id": "9ac060d8",
   "metadata": {
    "papermill": {
     "duration": 0.004416,
     "end_time": "2024-03-02T20:43:45.084198",
     "exception": false,
     "start_time": "2024-03-02T20:43:45.079782",
     "status": "completed"
    },
    "tags": []
   },
   "source": [
    "**This notebook is an exercise in the [Intro to Game AI and Reinforcement Learning](https://www.kaggle.com/learn/intro-to-game-ai-and-reinforcement-learning) course.  You can reference the tutorial at [this link](https://www.kaggle.com/alexisbcook/one-step-lookahead).**\n",
    "\n",
    "---\n"
   ]
  },
  {
   "cell_type": "markdown",
   "id": "3086b05b",
   "metadata": {
    "papermill": {
     "duration": 0.003633,
     "end_time": "2024-03-02T20:43:45.092088",
     "exception": false,
     "start_time": "2024-03-02T20:43:45.088455",
     "status": "completed"
    },
    "tags": []
   },
   "source": [
    "# Introduction\n",
    "\n",
    "In the tutorial, you learned how to define a simple heuristic that the agent used to select moves.  In this exercise, you'll check your understanding and make the heuristic more complex.\n",
    "\n",
    "To get started, run the code cell below to set up our feedback system."
   ]
  },
  {
   "cell_type": "code",
   "execution_count": 1,
   "id": "05c8ca00",
   "metadata": {
    "execution": {
     "iopub.execute_input": "2024-03-02T20:43:45.101698Z",
     "iopub.status.busy": "2024-03-02T20:43:45.101271Z",
     "iopub.status.idle": "2024-03-02T20:43:54.193789Z",
     "shell.execute_reply": "2024-03-02T20:43:54.192806Z"
    },
    "papermill": {
     "duration": 9.100475,
     "end_time": "2024-03-02T20:43:54.196396",
     "exception": false,
     "start_time": "2024-03-02T20:43:45.095921",
     "status": "completed"
    },
    "tags": []
   },
   "outputs": [
    {
     "name": "stdout",
     "output_type": "stream",
     "text": [
      "No pygame installed, ignoring import\n"
     ]
    }
   ],
   "source": [
    "from learntools.core import binder\n",
    "binder.bind(globals())\n",
    "from learntools.game_ai.ex2 import *"
   ]
  },
  {
   "cell_type": "markdown",
   "id": "c81da7cb",
   "metadata": {
    "papermill": {
     "duration": 0.003917,
     "end_time": "2024-03-02T20:43:54.204640",
     "exception": false,
     "start_time": "2024-03-02T20:43:54.200723",
     "status": "completed"
    },
    "tags": []
   },
   "source": [
    "### 1) A more complex heuristic\n",
    "\n",
    "The heuristic from the tutorial looks at all groups of four adjacent grid locations on the same row, column, or diagonal and assigns points for each occurrence of the following patterns:\n",
    "\n",
    "<center>\n",
    "<img src=\"https://storage.googleapis.com/kaggle-media/learn/images/vzQa4ML.png\" width=60%><br/>\n",
    "</center>\n",
    "\n",
    "In the image above, we assume that the agent is the red player, and the opponent plays yellow discs.\n",
    "\n",
    "For reference, here is the `get_heuristic()` function from the tutorial:\n",
    "```python\n",
    "def get_heuristic(grid, mark, config):\n",
    "    num_threes = count_windows(grid, 3, mark, config)\n",
    "    num_fours = count_windows(grid, 4, mark, config)\n",
    "    num_threes_opp = count_windows(grid, 3, mark%2+1, config)\n",
    "    score = num_threes - 1e2*num_threes_opp + 1e6*num_fours\n",
    "    return score\n",
    "```\n",
    "\n",
    "In the `get_heuristic()` function, `num_fours`, `num_threes`, and `num_threes_opp` are the number of windows in the game grid that are assigned 1000000, 1, and -100 point(s), respectively. \n",
    "    \n",
    "In this tutorial, you'll change the heuristic to the following (where you decide the number of points to apply in each of `A`, `B`, `C`, `D`, and `E`).  You will define these values in the code cell below.\n",
    "\n",
    "<center>\n",
    "<img src=\"https://storage.googleapis.com/kaggle-media/learn/images/FBoWr2f.png\" width=80%><br/>\n",
    "</center>\n",
    "    \n",
    "\n",
    "To check your answer, we use your values to create a heuristic function as follows:\n",
    "\n",
    "```python\n",
    "def get_heuristic_q1(grid, col, mark, config):\n",
    "    num_twos = count_windows(grid, 2, mark, config)\n",
    "    num_threes = count_windows(grid, 3, mark, config)\n",
    "    num_fours = count_windows(grid, 4, mark, config)\n",
    "    num_twos_opp = count_windows(grid, 2, mark%2+1, config)\n",
    "    num_threes_opp = count_windows(grid, 3, mark%2+1, config)\n",
    "    score = A*num_fours + B*num_threes + C*num_twos + D*num_twos_opp + E*num_threes_opp\n",
    "    return score\n",
    "```\n",
    "\n",
    "This heuristic is then used to create an agent, that competes against the agent from the tutorial in 50 different game rounds.  In order to be marked correct, \n",
    "- your agent must win at least half of the games, and\n",
    "- `C` and `D` must both be nonzero."
   ]
  },
  {
   "cell_type": "code",
   "execution_count": 2,
   "id": "c2d81bc2",
   "metadata": {
    "execution": {
     "iopub.execute_input": "2024-03-02T20:43:54.214304Z",
     "iopub.status.busy": "2024-03-02T20:43:54.213766Z",
     "iopub.status.idle": "2024-03-02T20:44:09.368426Z",
     "shell.execute_reply": "2024-03-02T20:44:09.367401Z"
    },
    "papermill": {
     "duration": 15.16218,
     "end_time": "2024-03-02T20:44:09.370645",
     "exception": false,
     "start_time": "2024-03-02T20:43:54.208465",
     "status": "completed"
    },
    "tags": []
   },
   "outputs": [
    {
     "name": "stdout",
     "output_type": "stream",
     "text": [
      "Your Agent's Win Percentage (in 50 game rounds): 0.82\n",
      "Tutorial Agent's Win Percentage (in 50 game rounds): 0.18\n"
     ]
    },
    {
     "data": {
      "application/javascript": [
       "parent.postMessage({\"jupyterEvent\": \"custom.exercise_interaction\", \"data\": {\"outcomeType\": 1, \"valueTowardsCompletion\": 0.3333333333333333, \"interactionType\": 1, \"questionType\": 2, \"questionId\": \"1_BetterHeuristic\", \"learnToolsVersion\": \"0.3.4\", \"failureMessage\": \"\", \"exceptionClass\": \"\", \"trace\": \"\"}}, \"*\")"
      ],
      "text/plain": [
       "<IPython.core.display.Javascript object>"
      ]
     },
     "metadata": {},
     "output_type": "display_data"
    },
    {
     "data": {
      "text/markdown": [
       "<span style=\"color:#33cc33\">Correct</span>"
      ],
      "text/plain": [
       "Correct"
      ]
     },
     "metadata": {},
     "output_type": "display_data"
    }
   ],
   "source": [
    "# TODO: Assign your values here\n",
    "A = 1e6\n",
    "B = 1\n",
    "C = 0.5\n",
    "D = -50\n",
    "E = -1e2\n",
    "\n",
    "# Check your answer (this will take a few seconds to run!)\n",
    "q_1.check()"
   ]
  },
  {
   "cell_type": "code",
   "execution_count": 3,
   "id": "f92f90f3",
   "metadata": {
    "execution": {
     "iopub.execute_input": "2024-03-02T20:44:09.381374Z",
     "iopub.status.busy": "2024-03-02T20:44:09.381000Z",
     "iopub.status.idle": "2024-03-02T20:44:09.389401Z",
     "shell.execute_reply": "2024-03-02T20:44:09.388429Z"
    },
    "papermill": {
     "duration": 0.016352,
     "end_time": "2024-03-02T20:44:09.391561",
     "exception": false,
     "start_time": "2024-03-02T20:44:09.375209",
     "status": "completed"
    },
    "tags": []
   },
   "outputs": [
    {
     "data": {
      "application/javascript": [
       "parent.postMessage({\"jupyterEvent\": \"custom.exercise_interaction\", \"data\": {\"interactionType\": 2, \"questionType\": 2, \"questionId\": \"1_BetterHeuristic\", \"learnToolsVersion\": \"0.3.4\", \"valueTowardsCompletion\": 0.0, \"failureMessage\": \"\", \"exceptionClass\": \"\", \"trace\": \"\", \"outcomeType\": 4}}, \"*\")"
      ],
      "text/plain": [
       "<IPython.core.display.Javascript object>"
      ]
     },
     "metadata": {},
     "output_type": "display_data"
    },
    {
     "data": {
      "text/markdown": [
       "<span style=\"color:#3366cc\">Hint:</span> Use the agent from the tutorial as a starting point     (`A = 1e6`, `B = 1`, `C = 0`, `D = 0`, `E = -1e2`)."
      ],
      "text/plain": [
       "Hint: Use the agent from the tutorial as a starting point     (`A = 1e6`, `B = 1`, `C = 0`, `D = 0`, `E = -1e2`)."
      ]
     },
     "metadata": {},
     "output_type": "display_data"
    }
   ],
   "source": [
    "# Lines below will give you a hint or solution code\n",
    "q_1.hint()\n",
    "#q_1.solution()"
   ]
  },
  {
   "cell_type": "markdown",
   "id": "2d61a96c",
   "metadata": {
    "papermill": {
     "duration": 0.004499,
     "end_time": "2024-03-02T20:44:09.401168",
     "exception": false,
     "start_time": "2024-03-02T20:44:09.396669",
     "status": "completed"
    },
    "tags": []
   },
   "source": [
    "### 2) Does the agent win?\n",
    "\n",
    "Consider the game board below.  \n",
    "\n",
    "<center>\n",
    "<img src=\"https://storage.googleapis.com/kaggle-media/learn/images/AlnaQ3J.png\" width=30%><br/>\n",
    "</center>\n",
    "\n",
    "Say the agent uses red discs, and it's the agent's turn.  \n",
    "- If the agent uses the heuristic **_from the tutorial_**, does it win or lose the game?\n",
    "- If the agent uses the heuristic **_that you just implemented_**, does it win or lose the game?"
   ]
  },
  {
   "cell_type": "code",
   "execution_count": 4,
   "id": "4e4fa5a7",
   "metadata": {
    "execution": {
     "iopub.execute_input": "2024-03-02T20:44:09.411996Z",
     "iopub.status.busy": "2024-03-02T20:44:09.411604Z",
     "iopub.status.idle": "2024-03-02T20:44:09.416445Z",
     "shell.execute_reply": "2024-03-02T20:44:09.415423Z"
    },
    "papermill": {
     "duration": 0.012696,
     "end_time": "2024-03-02T20:44:09.418531",
     "exception": false,
     "start_time": "2024-03-02T20:44:09.405835",
     "status": "completed"
    },
    "tags": []
   },
   "outputs": [],
   "source": [
    "#q_2.hint()"
   ]
  },
  {
   "cell_type": "code",
   "execution_count": 5,
   "id": "cf07e7d4",
   "metadata": {
    "execution": {
     "iopub.execute_input": "2024-03-02T20:44:09.430248Z",
     "iopub.status.busy": "2024-03-02T20:44:09.429245Z",
     "iopub.status.idle": "2024-03-02T20:44:09.437391Z",
     "shell.execute_reply": "2024-03-02T20:44:09.436449Z"
    },
    "papermill": {
     "duration": 0.016406,
     "end_time": "2024-03-02T20:44:09.439594",
     "exception": false,
     "start_time": "2024-03-02T20:44:09.423188",
     "status": "completed"
    },
    "tags": []
   },
   "outputs": [
    {
     "data": {
      "application/javascript": [
       "parent.postMessage({\"jupyterEvent\": \"custom.exercise_interaction\", \"data\": {\"interactionType\": 3, \"questionType\": 4, \"questionId\": \"2_BothLose\", \"learnToolsVersion\": \"0.3.4\", \"valueTowardsCompletion\": 0.0, \"failureMessage\": \"\", \"exceptionClass\": \"\", \"trace\": \"\", \"outcomeType\": 4}}, \"*\")"
      ],
      "text/plain": [
       "<IPython.core.display.Javascript object>"
      ]
     },
     "metadata": {},
     "output_type": "display_data"
    },
    {
     "data": {
      "text/markdown": [
       "<span style=\"color:#33cc99\">Solution:</span> The agent has two choices: it can play in either column 0 (the leftmost column), or column 6 (the rightmost column). If the agent plays in column 0, it definitely wins the game in its next move.  And, if it plays in column 6, it likely loses the game (since, if the opponent responds by playing in the same column, then the opponent wins the game). \n",
       "\n",
       "If the agent uses the heuristic **from the tutorial**, both columns are scored equally, and so the agent will select from them (uniformly) at random.  In this case, the agent has about a 50/50 chance of winning the game. \n",
       "\n",
       "As for the heuristic **that** **you just implemented**, this will depend on your implementation, so we'll provide an answer for the solution heuristic that we provided -- in this case, the agent most likely loses the game, since it will definitely select the final column. \n",
       "\n",
       "This is an interesting situation, because on average, we see that the agent with the new heuristic performs better than the agent from the tutorial (and yet, for this board, it's guaranteed to make the wrong decision)."
      ],
      "text/plain": [
       "Solution: The agent has two choices: it can play in either column 0 (the leftmost column), or column 6 (the rightmost column). If the agent plays in column 0, it definitely wins the game in its next move.  And, if it plays in column 6, it likely loses the game (since, if the opponent responds by playing in the same column, then the opponent wins the game). \n",
       "\n",
       "If the agent uses the heuristic **from the tutorial**, both columns are scored equally, and so the agent will select from them (uniformly) at random.  In this case, the agent has about a 50/50 chance of winning the game. \n",
       "\n",
       "As for the heuristic **that** **you just implemented**, this will depend on your implementation, so we'll provide an answer for the solution heuristic that we provided -- in this case, the agent most likely loses the game, since it will definitely select the final column. \n",
       "\n",
       "This is an interesting situation, because on average, we see that the agent with the new heuristic performs better than the agent from the tutorial (and yet, for this board, it's guaranteed to make the wrong decision)."
      ]
     },
     "metadata": {},
     "output_type": "display_data"
    }
   ],
   "source": [
    "# Check your answer (Run this code cell to receive credit!)\n",
    "q_2.solution()"
   ]
  },
  {
   "cell_type": "markdown",
   "id": "831e74af",
   "metadata": {
    "papermill": {
     "duration": 0.004582,
     "end_time": "2024-03-02T20:44:09.449362",
     "exception": false,
     "start_time": "2024-03-02T20:44:09.444780",
     "status": "completed"
    },
    "tags": []
   },
   "source": [
    "### 3) Submit to the competition\n",
    "\n",
    "Now, it's time to submit an agent to the competition!  Use the next code cell to define an agent.  (You can see an example of how to write a valid agent in **[this notebook](https://www.kaggle.com/alexisbcook/create-a-connectx-agent)**.)\n",
    "\n",
    "You're encouraged to use what you learned in the first question of this exercise to write an agent.  Use the code from the tutorial as a starting point. "
   ]
  },
  {
   "cell_type": "code",
   "execution_count": 6,
   "id": "12474ef8",
   "metadata": {
    "execution": {
     "iopub.execute_input": "2024-03-02T20:44:09.460700Z",
     "iopub.status.busy": "2024-03-02T20:44:09.460320Z",
     "iopub.status.idle": "2024-03-02T20:44:09.468895Z",
     "shell.execute_reply": "2024-03-02T20:44:09.467927Z"
    },
    "papermill": {
     "duration": 0.016846,
     "end_time": "2024-03-02T20:44:09.470987",
     "exception": false,
     "start_time": "2024-03-02T20:44:09.454141",
     "status": "completed"
    },
    "tags": []
   },
   "outputs": [],
   "source": [
    "def my_agent(obs, config):\n",
    "    # Your code here: Amend the agent!\n",
    "    import random\n",
    "    valid_moves = [col for col in range(config.columns) if obs.board[col] == 0]\n",
    "\n",
    "    grid = np.asarray(obs.board).reshape(config.rows, config.columns)\n",
    "    \n",
    "#     If there is a winning move, take it    \n",
    "    for move in valid_moves:\n",
    "        if check_winning_move(obs, config, move,piece=obs.mark):\n",
    "            return(move)\n",
    "#     If the opponent can take a winning move, block it\n",
    "    for move in valid_moves:\n",
    "        if check_winning_move(obs,config, move, piece=obs.mark%2+1):\n",
    "            return(move)\n",
    "        \n",
    "    for move in valid_moves:\n",
    "        temp_board= drop_piece(grid,move,obs.mark,config).flatten()\n",
    "        temp_obs = obs\n",
    "        temp_obs.board = temp_board\n",
    "        valid_moves_2 = [col for col in range(config.columns) if temp_obs.board[col] == 0]\n",
    "        count = 0\n",
    "        for opponent_move in valid_moves_2:\n",
    "            if check_winning_move(temp_obs,config, move, piece=obs.mark%2+1):\n",
    "                count += 1\n",
    "        if count >= 2:\n",
    "            valid_moves.remove(move)\n",
    "                \n",
    "#     Play random move   \n",
    "    return random.choice(valid_moves)"
   ]
  },
  {
   "cell_type": "code",
   "execution_count": 7,
   "id": "63257d4f",
   "metadata": {
    "execution": {
     "iopub.execute_input": "2024-03-02T20:44:09.482638Z",
     "iopub.status.busy": "2024-03-02T20:44:09.482276Z",
     "iopub.status.idle": "2024-03-02T20:44:09.489610Z",
     "shell.execute_reply": "2024-03-02T20:44:09.488571Z"
    },
    "papermill": {
     "duration": 0.01562,
     "end_time": "2024-03-02T20:44:09.491693",
     "exception": false,
     "start_time": "2024-03-02T20:44:09.476073",
     "status": "completed"
    },
    "tags": []
   },
   "outputs": [
    {
     "data": {
      "application/javascript": [
       "parent.postMessage({\"jupyterEvent\": \"custom.exercise_interaction\", \"data\": {\"outcomeType\": 1, \"valueTowardsCompletion\": 0.3333333333333333, \"interactionType\": 1, \"questionType\": 2, \"questionId\": \"3_CreateAgentEx2\", \"learnToolsVersion\": \"0.3.4\", \"failureMessage\": \"\", \"exceptionClass\": \"\", \"trace\": \"\"}}, \"*\")"
      ],
      "text/plain": [
       "<IPython.core.display.Javascript object>"
      ]
     },
     "metadata": {},
     "output_type": "display_data"
    },
    {
     "data": {
      "text/markdown": [
       "<span style=\"color:#33cc33\">Thank you for creating an agent!</span>"
      ],
      "text/plain": [
       "Thank you for creating an agent!"
      ]
     },
     "metadata": {},
     "output_type": "display_data"
    }
   ],
   "source": [
    "# Run this code cell to get credit for creating an agent\n",
    "q_3.check()"
   ]
  },
  {
   "cell_type": "markdown",
   "id": "95e00729",
   "metadata": {
    "papermill": {
     "duration": 0.004816,
     "end_time": "2024-03-02T20:44:09.501616",
     "exception": false,
     "start_time": "2024-03-02T20:44:09.496800",
     "status": "completed"
    },
    "tags": []
   },
   "source": [
    "Run the next code cell to convert your agent to a submission file."
   ]
  },
  {
   "cell_type": "code",
   "execution_count": 8,
   "id": "2935c9b5",
   "metadata": {
    "execution": {
     "iopub.execute_input": "2024-03-02T20:44:09.514288Z",
     "iopub.status.busy": "2024-03-02T20:44:09.513884Z",
     "iopub.status.idle": "2024-03-02T20:44:09.522630Z",
     "shell.execute_reply": "2024-03-02T20:44:09.521374Z"
    },
    "papermill": {
     "duration": 0.017612,
     "end_time": "2024-03-02T20:44:09.524906",
     "exception": false,
     "start_time": "2024-03-02T20:44:09.507294",
     "status": "completed"
    },
    "tags": []
   },
   "outputs": [
    {
     "name": "stdout",
     "output_type": "stream",
     "text": [
      "<function my_agent at 0x7fd81307f760> written to submission.py\n"
     ]
    }
   ],
   "source": [
    "import inspect\n",
    "import os\n",
    "\n",
    "def write_agent_to_file(function, file):\n",
    "    with open(file, \"a\" if os.path.exists(file) else \"w\") as f:\n",
    "        f.write(inspect.getsource(function))\n",
    "        print(function, \"written to\", file)\n",
    "\n",
    "write_agent_to_file(my_agent, \"submission.py\")"
   ]
  },
  {
   "cell_type": "markdown",
   "id": "428e0be8",
   "metadata": {
    "papermill": {
     "duration": 0.004954,
     "end_time": "2024-03-02T20:44:09.535102",
     "exception": false,
     "start_time": "2024-03-02T20:44:09.530148",
     "status": "completed"
    },
    "tags": []
   },
   "source": [
    "Then, follow these steps to submit your agent to the competition:\n",
    "1. Begin by clicking on the **Save Version** button in the top right corner of the window.  This will generate a pop-up window.  \n",
    "2. Ensure that the **Save and Run All** option is selected, and then click on the **Save** button.\n",
    "3. This generates a window in the bottom left corner of the notebook.  After it has finished running, click on the number to the right of the **Save Version** button.  This pulls up a list of versions on the right of the screen.  Click on the ellipsis **(...)** to the right of the most recent version, and select **Open in Viewer**.  This brings you into view mode of the same page. You will need to scroll down to get back to these instructions.\n",
    "4. Click on the **Data** tab near the top of the screen.  Then, click on the file you would like to submit, and click on the **Submit** button to submit your results to the leaderboard.\n",
    "\n",
    "You have now successfully submitted to the competition!\n",
    "\n",
    "If you want to keep working to improve your performance, select the **Edit** button in the top right of the screen. Then you can change your code and repeat the process. There's a lot of room to improve, and you will climb up the leaderboard as you work.\n",
    "\n",
    "\n",
    "Go to **\"My Submissions\"** to view your score and episodes being played.\n",
    "\n",
    "# Keep going\n",
    "\n",
    "Move on to **[develop a longer-term strategy](https://www.kaggle.com/alexisbcook/n-step-lookahead)** with the minimax algorithm."
   ]
  },
  {
   "cell_type": "markdown",
   "id": "3cd23f4e",
   "metadata": {
    "papermill": {
     "duration": 0.00488,
     "end_time": "2024-03-02T20:44:09.545114",
     "exception": false,
     "start_time": "2024-03-02T20:44:09.540234",
     "status": "completed"
    },
    "tags": []
   },
   "source": [
    "---\n",
    "\n",
    "\n",
    "\n",
    "\n",
    "*Have questions or comments? Visit the [course discussion forum](https://www.kaggle.com/learn/intro-to-game-ai-and-reinforcement-learning/discussion) to chat with other learners.*"
   ]
  }
 ],
 "metadata": {
  "kaggle": {
   "accelerator": "none",
   "dataSources": [
    {
     "databundleVersionId": 899221,
     "sourceId": 17592,
     "sourceType": "competition"
    }
   ],
   "isGpuEnabled": false,
   "isInternetEnabled": false,
   "language": "python",
   "sourceType": "notebook"
  },
  "kernelspec": {
   "display_name": "Python 3",
   "language": "python",
   "name": "python3"
  },
  "language_info": {
   "codemirror_mode": {
    "name": "ipython",
    "version": 3
   },
   "file_extension": ".py",
   "mimetype": "text/x-python",
   "name": "python",
   "nbconvert_exporter": "python",
   "pygments_lexer": "ipython3",
   "version": "3.10.13"
  },
  "papermill": {
   "default_parameters": {},
   "duration": 28.797587,
   "end_time": "2024-03-02T20:44:10.976325",
   "environment_variables": {},
   "exception": null,
   "input_path": "__notebook__.ipynb",
   "output_path": "__notebook__.ipynb",
   "parameters": {},
   "start_time": "2024-03-02T20:43:42.178738",
   "version": "2.5.0"
  }
 },
 "nbformat": 4,
 "nbformat_minor": 5
}
